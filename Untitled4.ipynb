{
  "nbformat": 4,
  "nbformat_minor": 0,
  "metadata": {
    "colab": {
      "name": "Untitled4.ipynb",
      "provenance": [],
      "collapsed_sections": []
    },
    "kernelspec": {
      "name": "python3",
      "display_name": "Python 3"
    }
  },
  "cells": [
    {
      "cell_type": "code",
      "metadata": {
        "id": "tngFB1pjjcyq",
        "colab_type": "code",
        "colab": {}
      },
      "source": [
        "def right_justify(string):\n",
        "  A = ''\n",
        "  for i in range(1,70-len(string)):\n",
        "    A = A + ' '\n",
        "  print(A+string)"
      ],
      "execution_count": 0,
      "outputs": []
    },
    {
      "cell_type": "code",
      "metadata": {
        "id": "upWPWhp2n8jP",
        "colab_type": "code",
        "colab": {
          "base_uri": "https://localhost:8080/",
          "height": 35
        },
        "outputId": "7edd815c-45ed-4338-9214-72856710377a"
      },
      "source": [
        "right_justify('monty')"
      ],
      "execution_count": 13,
      "outputs": [
        {
          "output_type": "stream",
          "text": [
            "                                                                monty\n"
          ],
          "name": "stdout"
        }
      ]
    },
    {
      "cell_type": "code",
      "metadata": {
        "id": "RtUYngD1o2sX",
        "colab_type": "code",
        "colab": {}
      },
      "source": [
        "##1. Type this example into a script and test it. \n",
        "def do_twice(f):\n",
        "  f()\n",
        "  f()\n",
        "\n",
        "def print_spam():\n",
        "  print('spam')"
      ],
      "execution_count": 0,
      "outputs": []
    },
    {
      "cell_type": "code",
      "metadata": {
        "id": "-q4Iqitis9dc",
        "colab_type": "code",
        "colab": {
          "base_uri": "https://localhost:8080/",
          "height": 53
        },
        "outputId": "1caf041e-0a82-44ba-98fc-62ccc9d2d1ae"
      },
      "source": [
        "do_twice(print_spam)"
      ],
      "execution_count": 17,
      "outputs": [
        {
          "output_type": "stream",
          "text": [
            "spam\n",
            "spam\n"
          ],
          "name": "stdout"
        }
      ]
    },
    {
      "cell_type": "code",
      "metadata": {
        "id": "uBcx-7zytRJi",
        "colab_type": "code",
        "colab": {}
      },
      "source": [
        "##2\n",
        "def do_twice(func, val):\n",
        "  func(val)\n",
        "  func(val)\n",
        "\n",
        "def print_spam(string):\n",
        "  print(string)"
      ],
      "execution_count": 0,
      "outputs": []
    },
    {
      "cell_type": "code",
      "metadata": {
        "id": "ZzHxIsllw7Fv",
        "colab_type": "code",
        "colab": {
          "base_uri": "https://localhost:8080/",
          "height": 53
        },
        "outputId": "1f9c0e6f-47fc-4dfd-ae09-27cb3470b0b3"
      },
      "source": [
        "do_twice(print_spam, 'spam')"
      ],
      "execution_count": 35,
      "outputs": [
        {
          "output_type": "stream",
          "text": [
            "spam\n",
            "spam\n"
          ],
          "name": "stdout"
        }
      ]
    },
    {
      "cell_type": "code",
      "metadata": {
        "id": "1iZfWqhDx85z",
        "colab_type": "code",
        "colab": {}
      },
      "source": [
        "##3\n",
        "def print_twice(string):\n",
        "  print(string)\n",
        "  print(string)"
      ],
      "execution_count": 0,
      "outputs": []
    },
    {
      "cell_type": "code",
      "metadata": {
        "id": "Me_LKqQsyXXU",
        "colab_type": "code",
        "colab": {
          "base_uri": "https://localhost:8080/",
          "height": 53
        },
        "outputId": "758fce11-35d9-40f1-f1de-e47aa0937e70"
      },
      "source": [
        "print_twice('spam')"
      ],
      "execution_count": 37,
      "outputs": [
        {
          "output_type": "stream",
          "text": [
            "spam\n",
            "spam\n"
          ],
          "name": "stdout"
        }
      ]
    },
    {
      "cell_type": "code",
      "metadata": {
        "id": "E7ZpvuhVyad5",
        "colab_type": "code",
        "colab": {
          "base_uri": "https://localhost:8080/",
          "height": 89
        },
        "outputId": "f132f367-2d59-4a01-ca19-6e4aa3e85b7a"
      },
      "source": [
        "##4\n",
        "def do_twice(func, val):\n",
        "  func(val)\n",
        "  func(val)\n",
        "\n",
        "## def print_twice(string):\n",
        "##  print(string)\n",
        "##  print(string)\n",
        "\n",
        "do_twice(print_twice, 'spam')"
      ],
      "execution_count": 52,
      "outputs": [
        {
          "output_type": "stream",
          "text": [
            "spam\n",
            "spam\n",
            "spam\n",
            "spam\n"
          ],
          "name": "stdout"
        }
      ]
    },
    {
      "cell_type": "code",
      "metadata": {
        "id": "TSfr_MO_z_Pm",
        "colab_type": "code",
        "colab": {
          "base_uri": "https://localhost:8080/",
          "height": 89
        },
        "outputId": "7cd23b3a-c6b1-4091-da31-dc47090cd0e9"
      },
      "source": [
        "##5\n",
        "def do_four(func, val):\n",
        "  do_twice(func,val)\n",
        "  do_twice(func,val)\n",
        "\n",
        "## def do_twice(func, val):\n",
        "##   func(val)\n",
        "##   func(val)\n",
        "\n",
        "do_four(print,'spam')"
      ],
      "execution_count": 51,
      "outputs": [
        {
          "output_type": "stream",
          "text": [
            "spam\n",
            "spam\n",
            "spam\n",
            "spam\n"
          ],
          "name": "stdout"
        }
      ]
    }
  ]
}