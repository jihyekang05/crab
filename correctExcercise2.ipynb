{
  "nbformat": 4,
  "nbformat_minor": 0,
  "metadata": {
    "colab": {
      "name": "correctExcercise2.ipynb",
      "provenance": []
    },
    "kernelspec": {
      "name": "python3",
      "display_name": "Python 3"
    }
  },
  "cells": [
    {
      "cell_type": "markdown",
      "metadata": {
        "id": "I6QKqHp2kk0h",
        "colab_type": "text"
      },
      "source": [
        "##Excercise2.1\n"
      ]
    },
    {
      "cell_type": "markdown",
      "metadata": {
        "id": "dcm21y9RlZkN",
        "colab_type": "text"
      },
      "source": [
        "###Excercise2.1.1"
      ]
    },
    {
      "cell_type": "code",
      "metadata": {
        "id": "oXsqm-O5W4V0",
        "colab_type": "code",
        "outputId": "f7ce4b10-7d60-436b-fc4c-08c680063941",
        "colab": {
          "base_uri": "https://localhost:8080/",
          "height": 35
        }
      },
      "source": [
        "n=42\n",
        "42-n"
      ],
      "execution_count": 1,
      "outputs": [
        {
          "output_type": "execute_result",
          "data": {
            "text/plain": [
              "0"
            ]
          },
          "metadata": {
            "tags": []
          },
          "execution_count": 1
        }
      ]
    },
    {
      "cell_type": "markdown",
      "metadata": {
        "id": "-72LPgM24Bfg",
        "colab_type": "text"
      },
      "source": [
        "When we put 42-n, it works well."
      ]
    },
    {
      "cell_type": "markdown",
      "metadata": {
        "id": "kE_3OO64lkxz",
        "colab_type": "text"
      },
      "source": [
        "###Excercise2.1.2"
      ]
    },
    {
      "cell_type": "code",
      "metadata": {
        "id": "BAYcW2MFXHaG",
        "colab_type": "code",
        "outputId": "7ba42081-66b3-4cb8-e54f-2d4c89b01432",
        "colab": {
          "base_uri": "https://localhost:8080/",
          "height": 35
        }
      },
      "source": [
        "x=y=1\n",
        "print(x)"
      ],
      "execution_count": 6,
      "outputs": [
        {
          "output_type": "stream",
          "text": [
            "1\n"
          ],
          "name": "stdout"
        }
      ]
    },
    {
      "cell_type": "code",
      "metadata": {
        "id": "LCYkFtyZmVMO",
        "colab_type": "code",
        "colab": {
          "base_uri": "https://localhost:8080/",
          "height": 35
        },
        "outputId": "7daac51f-bba0-4ad5-f80e-e2c894104395"
      },
      "source": [
        "x=y=1\n",
        "print(x-y)"
      ],
      "execution_count": 7,
      "outputs": [
        {
          "output_type": "stream",
          "text": [
            "0\n"
          ],
          "name": "stdout"
        }
      ]
    },
    {
      "cell_type": "markdown",
      "metadata": {
        "id": "UB6oEMqul_3A",
        "colab_type": "text"
      },
      "source": [
        "###Excercise2.1.3"
      ]
    },
    {
      "cell_type": "code",
      "metadata": {
        "id": "wc3yIAgCXV93",
        "colab_type": "code",
        "outputId": "0b80c3bd-4a91-48ee-ad37-2fad3299a0b7",
        "colab": {
          "base_uri": "https://localhost:8080/",
          "height": 35
        }
      },
      "source": [
        "number=3;\n",
        "print(number);"
      ],
      "execution_count": 8,
      "outputs": [
        {
          "output_type": "stream",
          "text": [
            "3\n"
          ],
          "name": "stdout"
        }
      ]
    },
    {
      "cell_type": "markdown",
      "metadata": {
        "id": "wIM4K8pY4Knc",
        "colab_type": "text"
      },
      "source": [
        "semi-colon doesn't make error. "
      ]
    },
    {
      "cell_type": "markdown",
      "metadata": {
        "id": "Psz3pjnrmvJ3",
        "colab_type": "text"
      },
      "source": [
        "###Excercise2.1.4"
      ]
    },
    {
      "cell_type": "code",
      "metadata": {
        "id": "jZ3oYtSUXh7l",
        "colab_type": "code",
        "outputId": "8d1139d0-97fe-4141-d539-1ee72d59b6a6",
        "colab": {
          "base_uri": "https://localhost:8080/",
          "height": 136
        }
      },
      "source": [
        "number=3.\n",
        "print(number)."
      ],
      "execution_count": 8,
      "outputs": [
        {
          "output_type": "error",
          "ename": "SyntaxError",
          "evalue": "ignored",
          "traceback": [
            "\u001b[0;36m  File \u001b[0;32m\"<ipython-input-9-fde298394562>\"\u001b[0;36m, line \u001b[0;32m2\u001b[0m\n\u001b[0;31m    print(number).\u001b[0m\n\u001b[0m                  ^\u001b[0m\n\u001b[0;31mSyntaxError\u001b[0m\u001b[0;31m:\u001b[0m invalid syntax\n"
          ]
        }
      ]
    },
    {
      "cell_type": "markdown",
      "metadata": {
        "id": "7JYITyFO4YUV",
        "colab_type": "text"
      },
      "source": [
        "If we put period at the end of the statement, it makes error."
      ]
    },
    {
      "cell_type": "markdown",
      "metadata": {
        "id": "aEFSz9p_m8sA",
        "colab_type": "text"
      },
      "source": [
        "###Excercise2.1.5"
      ]
    },
    {
      "cell_type": "code",
      "metadata": {
        "id": "ySMfXeTSYlHb",
        "colab_type": "code",
        "outputId": "801aa21d-ecd6-468c-c1d1-9fbf4b690754",
        "colab": {
          "base_uri": "https://localhost:8080/",
          "height": 226
        }
      },
      "source": [
        "x=3\n",
        "y=6\n",
        "print(xy)"
      ],
      "execution_count": 9,
      "outputs": [
        {
          "output_type": "stream",
          "text": [
            "ERROR! Session/line number was not unique in database. History logging moved to new session 59\n"
          ],
          "name": "stdout"
        },
        {
          "output_type": "error",
          "ename": "NameError",
          "evalue": "ignored",
          "traceback": [
            "\u001b[0;31m---------------------------------------------------------------------------\u001b[0m",
            "\u001b[0;31mNameError\u001b[0m                                 Traceback (most recent call last)",
            "\u001b[0;32m<ipython-input-9-3bf2ebd1533b>\u001b[0m in \u001b[0;36m<module>\u001b[0;34m()\u001b[0m\n\u001b[1;32m      1\u001b[0m \u001b[0mx\u001b[0m\u001b[0;34m=\u001b[0m\u001b[0;36m3\u001b[0m\u001b[0;34m\u001b[0m\u001b[0;34m\u001b[0m\u001b[0m\n\u001b[1;32m      2\u001b[0m \u001b[0my\u001b[0m\u001b[0;34m=\u001b[0m\u001b[0;36m6\u001b[0m\u001b[0;34m\u001b[0m\u001b[0;34m\u001b[0m\u001b[0m\n\u001b[0;32m----> 3\u001b[0;31m \u001b[0mprint\u001b[0m\u001b[0;34m(\u001b[0m\u001b[0mxy\u001b[0m\u001b[0;34m)\u001b[0m\u001b[0;34m\u001b[0m\u001b[0;34m\u001b[0m\u001b[0m\n\u001b[0m",
            "\u001b[0;31mNameError\u001b[0m: name 'xy' is not defined"
          ]
        }
      ]
    },
    {
      "cell_type": "markdown",
      "metadata": {
        "id": "aFei9YMW4geZ",
        "colab_type": "text"
      },
      "source": [
        "When we want to multiply two numbers, We have to put * ."
      ]
    },
    {
      "cell_type": "code",
      "metadata": {
        "id": "l1W1n_IKnJdA",
        "colab_type": "code",
        "colab": {
          "base_uri": "https://localhost:8080/",
          "height": 35
        },
        "outputId": "8a312d87-e209-4f6c-8b89-8623ee401cfc"
      },
      "source": [
        "x=3\n",
        "y=6\n",
        "print(x*y)"
      ],
      "execution_count": 10,
      "outputs": [
        {
          "output_type": "stream",
          "text": [
            "18\n"
          ],
          "name": "stdout"
        }
      ]
    },
    {
      "cell_type": "markdown",
      "metadata": {
        "id": "lwLzL84knqCI",
        "colab_type": "text"
      },
      "source": [
        "##Excercise2.2"
      ]
    },
    {
      "cell_type": "markdown",
      "metadata": {
        "id": "HvycAD98nR8B",
        "colab_type": "text"
      },
      "source": [
        "###Excercise2.2.1"
      ]
    },
    {
      "cell_type": "code",
      "metadata": {
        "id": "YnY4vgOCquva",
        "colab_type": "code",
        "colab": {
          "base_uri": "https://localhost:8080/",
          "height": 35
        },
        "outputId": "292bcc2f-a845-42c0-c5d8-92b86a43f34b"
      },
      "source": [
        "import math\n",
        "math.pi\n",
        "radius=5\n",
        "print(4/3*math.pi*radius**3)\n"
      ],
      "execution_count": 17,
      "outputs": [
        {
          "output_type": "stream",
          "text": [
            "523.5987755982989\n"
          ],
          "name": "stdout"
        }
      ]
    },
    {
      "cell_type": "markdown",
      "metadata": {
        "id": "nCffOrDB4oEw",
        "colab_type": "text"
      },
      "source": [
        "I learned what 'import' means and how to use it.\n",
        "It's like a package. For example, In math package, there are plus,minus and other operations."
      ]
    },
    {
      "cell_type": "code",
      "metadata": {
        "id": "cadx-9xhcfrz",
        "colab_type": "code",
        "outputId": "ed9d6f8f-4a0e-43d0-b3a5-6ba01c87950b",
        "colab": {
          "base_uri": "https://localhost:8080/",
          "height": 35
        }
      },
      "source": [
        "\n",
        "from math import pi\n",
        "r=5\n",
        "\n",
        "Volume_of_sphere=4/3*math.pi*(r**3)\n",
        "print(Volume_of_sphere)\n"
      ],
      "execution_count": 16,
      "outputs": [
        {
          "output_type": "stream",
          "text": [
            "523.5987755982989\n"
          ],
          "name": "stdout"
        }
      ]
    },
    {
      "cell_type": "markdown",
      "metadata": {
        "id": "hOIxi7485TC2",
        "colab_type": "text"
      },
      "source": [
        "I tried from math import pi sentence.\n",
        "It's the same with \n",
        "(import math\n",
        "math.pi )."
      ]
    },
    {
      "cell_type": "markdown",
      "metadata": {
        "id": "kfqu2z1NnpES",
        "colab_type": "text"
      },
      "source": [
        "###Excercise2.2.2"
      ]
    },
    {
      "cell_type": "code",
      "metadata": {
        "id": "XKZdZbHEcpEA",
        "colab_type": "code",
        "outputId": "848a9b1c-1a12-4cd9-83c7-aa58860d8a68",
        "colab": {
          "base_uri": "https://localhost:8080/",
          "height": 35
        }
      },
      "source": [
        "book_price=24.95\n",
        "discount=0.4\n",
        "discounted_book_price=book_price*(1-discount)\n",
        "\n",
        "total_order_number=60\n",
        "\n",
        "shipping_cost_first_copy=3\n",
        "shipping_cost=0.75\n",
        "\n",
        "\n",
        "total_cost_for_sixty_copies=(discounted_book_price+shipping_cost_first_copy)+((discounted_book_price+shipping_cost)*(total_order_number-1))\n",
        "print(total_cost_for_sixty_copies)"
      ],
      "execution_count": 18,
      "outputs": [
        {
          "output_type": "stream",
          "text": [
            "945.4499999999999\n"
          ],
          "name": "stdout"
        }
      ]
    },
    {
      "cell_type": "markdown",
      "metadata": {
        "id": "VqTnpjOjn8f7",
        "colab_type": "text"
      },
      "source": [
        "###Excercise2.2.3"
      ]
    },
    {
      "cell_type": "code",
      "metadata": {
        "id": "IdZOHijzVaaA",
        "colab_type": "code",
        "outputId": "653b065b-9eed-4374-ea7e-dade7daf3dae",
        "colab": {
          "base_uri": "https://localhost:8080/",
          "height": 35
        }
      },
      "source": [
        "SECONDS = 1\n",
        "MINUTES = 60 * SECONDS\n",
        "HOURS = 60 * MINUTES\n",
        "\n",
        "time_left_house_in_seconds = 6 * HOURS + 52 * MINUTES\n",
        "\n",
        "miles_run_easy_pace_in_seconds = 2 * (8 * MINUTES + 15 * SECONDS)\n",
        "\n",
        "miles_run_fast_pace_in_seconds = 3 * (7 * MINUTES + 12 * SECONDS)\n",
        "\n",
        "total_time_run_in_seconds = miles_run_easy_pace_in_seconds + miles_run_fast_pace_in_seconds+ time_left_house_in_seconds\n",
        "\n",
        "hours = total_time_run_in_seconds // HOURS\n",
        "\n",
        "part_hour = total_time_run_in_seconds % HOURS\n",
        "minutes = part_hour // MINUTES\n",
        "seconds = part_hour % MINUTES\n",
        "print(hours,':',minutes,':',seconds)"
      ],
      "execution_count": 27,
      "outputs": [
        {
          "output_type": "stream",
          "text": [
            "7 : 30 : 6\n"
          ],
          "name": "stdout"
        }
      ]
    },
    {
      "cell_type": "markdown",
      "metadata": {
        "id": "iX12uXFY5uoi",
        "colab_type": "text"
      },
      "source": [
        "I changed all times into seconds to calculate easily."
      ]
    },
    {
      "cell_type": "code",
      "metadata": {
        "id": "5qYoX_P42GYJ",
        "colab_type": "code",
        "colab": {
          "base_uri": "https://localhost:8080/",
          "height": 35
        },
        "outputId": "25c3e50a-85ca-4f07-8265-3ecc212e8fbb"
      },
      "source": [
        "import datetime\n",
        "time_left_house_in_seconds = 6 * HOURS + 52 * MINUTES\n",
        "\n",
        "miles_run_easy_pace_in_seconds = 2 * (8 * MINUTES + 15 * SECONDS)\n",
        "\n",
        "miles_run_fast_pace_in_seconds = 3 * (7 * MINUTES + 12 * SECONDS)\n",
        "\n",
        "total_time_run_in_seconds = miles_run_easy_pace_in_seconds + miles_run_fast_pace_in_seconds+ time_left_house_in_seconds\n",
        "\n",
        "hours = total_time_run_in_seconds // HOURS\n",
        "\n",
        "part_hour = total_time_run_in_seconds % HOURS\n",
        "minutes = part_hour // MINUTES\n",
        "seconds = part_hour % MINUTES\n",
        "print(hours,':',minutes,':',seconds)\n"
      ],
      "execution_count": 28,
      "outputs": [
        {
          "output_type": "stream",
          "text": [
            "7 : 30 : 6\n"
          ],
          "name": "stdout"
        }
      ]
    },
    {
      "cell_type": "markdown",
      "metadata": {
        "id": "nUuJlQly55iL",
        "colab_type": "text"
      },
      "source": [
        "I tried import in this program.\n",
        "It is shorter and more readable than the former one."
      ]
    },
    {
      "cell_type": "markdown",
      "metadata": {
        "id": "D5_rN07H2UFL",
        "colab_type": "text"
      },
      "source": [
        "Through the Lab2 feedbacks, I learned how to use Google Colab properly especially, I didn't know how to use text cell but now I know how to use it. I learned that python work just the same if we put ';' like C or C++.\n",
        "And I learned what is import in python and how to use this function. Now I decide that I'm going to study actively more about python."
      ]
    }
  ]
}